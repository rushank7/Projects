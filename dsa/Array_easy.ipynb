{
 "cells": [
  {
   "cell_type": "markdown",
   "metadata": {},
   "source": [
    "## 1. Largest element in an array"
   ]
  },
  {
   "cell_type": "code",
   "execution_count": 6,
   "metadata": {},
   "outputs": [],
   "source": [
    "from typing import List"
   ]
  },
  {
   "cell_type": "code",
   "execution_count": 3,
   "metadata": {},
   "outputs": [
    {
     "name": "stdout",
     "output_type": "stream",
     "text": [
      "Highest value of [4, 5, 100, 79] is : 100\n",
      "Highest value of [202, 101, 500, -80] is : 500\n"
     ]
    }
   ],
   "source": [
    "def sortarray(arr : List[int]) -> int:\n",
    "    arr.sort()\n",
    "    return arr[-1]\n",
    "\n",
    "if __name__ == \"__main__\":\n",
    "    arr1 = [4,5,100,79]\n",
    "    arr2 = [202,101,500,-80]\n",
    "    print(f\"Highest value of {arr1} is :\",sortarray(arr1))\n",
    "    print(f\"Highest value of {arr2} is :\",sortarray(arr2))\n",
    "\n",
    "    "
   ]
  },
  {
   "cell_type": "markdown",
   "metadata": {},
   "source": [
    "## 2. Second largest element in an array"
   ]
  },
  {
   "cell_type": "markdown",
   "metadata": {},
   "source": [
    "### Brute forch approach"
   ]
  },
  {
   "cell_type": "code",
   "execution_count": 9,
   "metadata": {},
   "outputs": [
    {
     "name": "stdout",
     "output_type": "stream",
     "text": [
      "79 5\n",
      "Highest value of [4, 5, 100, 79] is : None\n",
      "202 101\n",
      "Highest value of [202, 101, 500, -80] is : None\n"
     ]
    }
   ],
   "source": [
    "def sortarray(arr : List[int]) -> int:\n",
    "    arr.sort()\n",
    "    print(arr[-2],arr[1])\n",
    "\n",
    "if __name__ == \"__main__\":\n",
    "    arr1 = [4,5,100,79]\n",
    "    arr2 = [202,101,500,-80]\n",
    "    print(f\"Highest value of {arr1} is :\",sortarray(arr1))\n",
    "    print(f\"Highest value of {arr2} is :\",sortarray(arr2))\n"
   ]
  },
  {
   "cell_type": "code",
   "execution_count": 12,
   "metadata": {},
   "outputs": [
    {
     "name": "stdout",
     "output_type": "stream",
     "text": [
      "the second smallest is: 3\n",
      "The second largest is 8\n"
     ]
    }
   ],
   "source": [
    "def getElements(arr, n):\n",
    "    if n == 0 or n == 1:\n",
    "        print(-1,-1)\n",
    "    arr.sort()\n",
    "    small = arr[1]\n",
    "    large = arr[n-2]\n",
    "\n",
    "    print(\"the second smallest is:\",small)\n",
    "    print(\"The second largest is\",large)\n",
    "\n",
    "if __name__ == \"__main__\":\n",
    "    arr = [1,5,8,3,7,37]\n",
    "    n = len(arr)\n",
    "    getElements(arr,n)"
   ]
  },
  {
   "cell_type": "markdown",
   "metadata": {},
   "source": [
    "## 3. Check if the array is sorted"
   ]
  },
  {
   "cell_type": "code",
   "execution_count": 2,
   "metadata": {},
   "outputs": [
    {
     "name": "stdout",
     "output_type": "stream",
     "text": [
      "True\n"
     ]
    }
   ],
   "source": [
    "def issorted(arr,n):\n",
    "    for i in range(n):\n",
    "        for j in range(i+1,n):\n",
    "            if arr[j] < arr[i]:\n",
    "                return False\n",
    "    return True\n",
    "\n",
    "if __name__ == \"__main__\":\n",
    "    arr = [1,3,6,7]\n",
    "    n = len(arr)\n",
    "    ans = issorted(arr,n)\n",
    "    if ans:\n",
    "        print(\"True\")\n",
    "    else:\n",
    "        print(\"False\")"
   ]
  },
  {
   "cell_type": "code",
   "execution_count": 3,
   "metadata": {},
   "outputs": [],
   "source": [
    "## testing for sorting array\n",
    "def is_sorted(arr):\n",
    "    for i in range(len(arr) -1):\n",
    "        if arr[i] > arr [i+1]:\n",
    "            return False\n",
    "    return True"
   ]
  },
  {
   "cell_type": "code",
   "execution_count": 5,
   "metadata": {},
   "outputs": [
    {
     "data": {
      "text/plain": [
       "False"
      ]
     },
     "execution_count": 5,
     "metadata": {},
     "output_type": "execute_result"
    }
   ],
   "source": [
    "is_sorted([1,6,3,4])"
   ]
  },
  {
   "cell_type": "markdown",
   "metadata": {},
   "source": [
    "## 4. Remove duplicates from sorted array"
   ]
  },
  {
   "cell_type": "code",
   "execution_count": 7,
   "metadata": {},
   "outputs": [
    {
     "name": "stdout",
     "output_type": "stream",
     "text": [
      "The array after removing duplicate elements is \n",
      "1 2 3 "
     ]
    }
   ],
   "source": [
    "def removeduplicates(arr : List[int]) -> int:\n",
    "    st = set()\n",
    "    for i in range(len(arr)):\n",
    "        st.add(arr[i])\n",
    "    k = len(st)\n",
    "    j = 0\n",
    "    for x in st:\n",
    "        arr[j] = x\n",
    "        j += 1\n",
    "    return k\n",
    "if __name__ == \"__main__\":\n",
    "    arr = [1, 1, 2, 2, 2, 3, 3]\n",
    "    k = removeduplicates(arr)\n",
    "    print(\"The array after removing duplicate elements is \")\n",
    "    for i in range(k):\n",
    "        print(arr[i], end=\" \")"
   ]
  },
  {
   "cell_type": "markdown",
   "metadata": {},
   "source": [
    "## 5. Left rotate an array by one palce"
   ]
  },
  {
   "cell_type": "code",
   "execution_count": 10,
   "metadata": {},
   "outputs": [
    {
     "name": "stdout",
     "output_type": "stream",
     "text": [
      "2 3 4 5 1 "
     ]
    }
   ],
   "source": [
    "def solve(arr,n):\n",
    "    temp = arr[0]\n",
    "    for i in range(n-1):\n",
    "        arr[i] = arr[i+1]\n",
    "    arr[n-1] = temp\n",
    "    for i in range(n):\n",
    "        print(arr[i], end=\" \")\n",
    "\n",
    "n = 5\n",
    "arr = [1,2,3,4,5]\n",
    "solve(arr,n)"
   ]
  },
  {
   "cell_type": "markdown",
   "metadata": {},
   "source": [
    "## Left rotate an array by D places"
   ]
  },
  {
   "cell_type": "code",
   "execution_count": 1,
   "metadata": {},
   "outputs": [],
   "source": [
    "def rotate_left(nums, k):\n",
    "    n = len(nums)\n",
    "    k = k % n\n",
    "    return nums[k:] + nums[:k]"
   ]
  },
  {
   "cell_type": "code",
   "execution_count": 4,
   "metadata": {},
   "outputs": [
    {
     "name": "stdout",
     "output_type": "stream",
     "text": [
      "[77, 100, 1, 5, 6, 84]\n"
     ]
    }
   ],
   "source": [
    "arr = [1,5,6,84,77,100]\n",
    "print(rotate_left(arr,4))"
   ]
  },
  {
   "cell_type": "markdown",
   "metadata": {},
   "source": [
    "## 6. Move zeros to end"
   ]
  },
  {
   "cell_type": "markdown",
   "metadata": {},
   "source": [
    "1. Move all zeros to end of array\n",
    "2. Move nonnegative integers and also manitain sort order"
   ]
  },
  {
   "cell_type": "code",
   "execution_count": 32,
   "metadata": {},
   "outputs": [],
   "source": [
    "def movezeros(n:int,a:[int]) -> [int]:\n",
    "    temp = [] ## Temprory array\n",
    "\n",
    "    ## Copy non-zero elements from original to temp array\n",
    "    for i in range(n):\n",
    "        if a[i] != 0:\n",
    "            temp.append(a[i])\n",
    "            \n",
    "    # No of non-zero elements\n",
    "    nz = len(temp)\n",
    "\n",
    "    # Copy elements from temp to fill first nz fields of original array\n",
    "    for i in range(nz):\n",
    "        a[i] = temp[i]\n",
    "\n",
    "    for i in range(nz,n):\n",
    "        a[i] = 0\n",
    "\n",
    "    return a\n"
   ]
  },
  {
   "cell_type": "code",
   "execution_count": 35,
   "metadata": {},
   "outputs": [
    {
     "name": "stdout",
     "output_type": "stream",
     "text": [
      "2 6 9 36 33 -1 0 0 0 0 \n"
     ]
    }
   ],
   "source": [
    "arr = [2,6,0,0,0,9,0,36,33,-1]\n",
    "n = 10\n",
    "ans = movezeros(n,arr)\n",
    "for it in ans:\n",
    "    print(it,end = \" \")\n",
    "print()"
   ]
  },
  {
   "cell_type": "markdown",
   "metadata": {},
   "source": [
    "## 7. Linear search"
   ]
  },
  {
   "cell_type": "code",
   "execution_count": null,
   "metadata": {},
   "outputs": [],
   "source": []
  },
  {
   "cell_type": "markdown",
   "metadata": {},
   "source": [
    "## 8. Find the union"
   ]
  },
  {
   "cell_type": "code",
   "execution_count": 48,
   "metadata": {},
   "outputs": [
    {
     "name": "stdout",
     "output_type": "stream",
     "text": [
      "Union of arr1 and arr2 is:\n"
     ]
    },
    {
     "ename": "TypeError",
     "evalue": "print() argument after * must be an iterable, not function",
     "output_type": "error",
     "traceback": [
      "\u001b[1;31m---------------------------------------------------------------------------\u001b[0m",
      "\u001b[1;31mTypeError\u001b[0m                                 Traceback (most recent call last)",
      "\u001b[1;32m<ipython-input-48-c97c769334a4>\u001b[0m in \u001b[0;36m<module>\u001b[1;34m\u001b[0m\n\u001b[0;32m     21\u001b[0m \u001b[1;33m\u001b[0m\u001b[0m\n\u001b[0;32m     22\u001b[0m \u001b[0mprint\u001b[0m\u001b[1;33m(\u001b[0m\u001b[1;34m\"Union of arr1 and arr2 is:\"\u001b[0m\u001b[1;33m)\u001b[0m\u001b[1;33m\u001b[0m\u001b[1;33m\u001b[0m\u001b[0m\n\u001b[1;32m---> 23\u001b[1;33m \u001b[0mprint\u001b[0m\u001b[1;33m(\u001b[0m\u001b[1;33m*\u001b[0m\u001b[0munion\u001b[0m\u001b[1;33m)\u001b[0m\u001b[1;33m\u001b[0m\u001b[1;33m\u001b[0m\u001b[0m\n\u001b[0m",
      "\u001b[1;31mTypeError\u001b[0m: print() argument after * must be an iterable, not function"
     ]
    }
   ],
   "source": [
    "def union(arr1,arr2):\n",
    "    s = set()\n",
    "    temp = []\n",
    "\n",
    "    for i in arr1:\n",
    "        s.add(i)\n",
    "\n",
    "    for i in arr2:\n",
    "        s.add(i)\n",
    "\n",
    "    for num in s:\n",
    "        temp.append(num)\n",
    "\n",
    "    return union\n",
    "\n",
    "arr1 = [4,6,8,45,252,515,11]\n",
    "arr2 = [0,1,77,33,8,515]\n",
    "\n",
    "\n",
    "union = union(arr1, arr2)\n",
    "\n",
    "print(\"Union of arr1 and arr2 is:\")\n",
    "print(*union)"
   ]
  },
  {
   "cell_type": "code",
   "execution_count": 42,
   "metadata": {},
   "outputs": [
    {
     "name": "stdout",
     "output_type": "stream",
     "text": [
      "Union of arr1 and arr2 is:\n",
      "1 2 3 4 5 6 7 8 9 10 11 12\n"
     ]
    }
   ],
   "source": [
    "\n",
    "def find_union(arr1, arr2):\n",
    "    s = set()\n",
    "    union = []\n",
    "    \n",
    "    for num in arr1:\n",
    "        s.add(num)\n",
    "    \n",
    "    for num in arr2:\n",
    "        s.add(num)\n",
    "    \n",
    "    for num in s:\n",
    "        union.append(num)\n",
    "    \n",
    "    return union\n",
    "\n",
    "arr1 = [1, 2, 3, 4, 5, 6, 7, 8, 9, 10]\n",
    "arr2 = [2, 3, 4, 4, 5, 11, 12]\n",
    "\n",
    "union = find_union(arr1, arr2)\n",
    "\n",
    "print(\"Union of arr1 and arr2 is:\")\n",
    "print(*union)"
   ]
  },
  {
   "cell_type": "markdown",
   "metadata": {},
   "source": [
    "## 9. Find missing number in an array"
   ]
  },
  {
   "cell_type": "markdown",
   "metadata": {},
   "source": [
    "## 10. Maximum consecutive ones"
   ]
  },
  {
   "cell_type": "markdown",
   "metadata": {},
   "source": [
    "## 11. Find the number that appears once"
   ]
  },
  {
   "cell_type": "markdown",
   "metadata": {},
   "source": [
    "## 12. Longest subarray with given sum k ( positives)"
   ]
  },
  {
   "cell_type": "markdown",
   "metadata": {},
   "source": [
    "## 13. Longest subarray with sumk (positive + negatives)"
   ]
  },
  {
   "cell_type": "markdown",
   "metadata": {},
   "source": [
    "ss"
   ]
  }
 ],
 "metadata": {
  "kernelspec": {
   "display_name": "base",
   "language": "python",
   "name": "python3"
  },
  "language_info": {
   "codemirror_mode": {
    "name": "ipython",
    "version": 3
   },
   "file_extension": ".py",
   "mimetype": "text/x-python",
   "name": "python",
   "nbconvert_exporter": "python",
   "pygments_lexer": "ipython3",
   "version": "3.7.6"
  },
  "orig_nbformat": 4
 },
 "nbformat": 4,
 "nbformat_minor": 2
}
