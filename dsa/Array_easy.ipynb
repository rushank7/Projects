{
 "cells": [
  {
   "cell_type": "markdown",
   "metadata": {},
   "source": [
    "## 1. Largest element in an array"
   ]
  },
  {
   "cell_type": "code",
   "execution_count": 1,
   "metadata": {},
   "outputs": [],
   "source": [
    "from typing import List"
   ]
  },
  {
   "cell_type": "code",
   "execution_count": 3,
   "metadata": {},
   "outputs": [
    {
     "name": "stdout",
     "output_type": "stream",
     "text": [
      "Highest value of [4, 5, 100, 79] is : 100\n",
      "Highest value of [202, 101, 500, -80] is : 500\n"
     ]
    }
   ],
   "source": [
    "def sortarray(arr : List[int]) -> int:\n",
    "    arr.sort()\n",
    "    return arr[-1]\n",
    "\n",
    "if __name__ == \"__main__\":\n",
    "    arr1 = [4,5,100,79]\n",
    "    arr2 = [202,101,500,-80]\n",
    "    print(f\"Highest value of {arr1} is :\",sortarray(arr1))\n",
    "    print(f\"Highest value of {arr2} is :\",sortarray(arr2))\n",
    "\n",
    "    "
   ]
  },
  {
   "cell_type": "markdown",
   "metadata": {},
   "source": [
    "## 2. Second largest element in an array"
   ]
  },
  {
   "cell_type": "markdown",
   "metadata": {},
   "source": [
    "### Brute forch approach"
   ]
  },
  {
   "cell_type": "code",
   "execution_count": 9,
   "metadata": {},
   "outputs": [
    {
     "name": "stdout",
     "output_type": "stream",
     "text": [
      "79 5\n",
      "Highest value of [4, 5, 100, 79] is : None\n",
      "202 101\n",
      "Highest value of [202, 101, 500, -80] is : None\n"
     ]
    }
   ],
   "source": [
    "def sortarray(arr : List[int]) -> int:\n",
    "    arr.sort()\n",
    "    print(arr[-2],arr[1])\n",
    "\n",
    "if __name__ == \"__main__\":\n",
    "    arr1 = [4,5,100,79]\n",
    "    arr2 = [202,101,500,-80]\n",
    "    print(f\"Highest value of {arr1} is :\",sortarray(arr1))\n",
    "    print(f\"Highest value of {arr2} is :\",sortarray(arr2))\n"
   ]
  },
  {
   "cell_type": "code",
   "execution_count": 12,
   "metadata": {},
   "outputs": [
    {
     "name": "stdout",
     "output_type": "stream",
     "text": [
      "the second smallest is: 3\n",
      "The second largest is 8\n"
     ]
    }
   ],
   "source": [
    "def getElements(arr, n):\n",
    "    if n == 0 or n == 1:\n",
    "        print(-1,-1)\n",
    "    arr.sort()\n",
    "    small = arr[1]\n",
    "    large = arr[n-2]\n",
    "\n",
    "    print(\"the second smallest is:\",small)\n",
    "    print(\"The second largest is\",large)\n",
    "\n",
    "if __name__ == \"__main__\":\n",
    "    arr = [1,5,8,3,7,37]\n",
    "    n = len(arr)\n",
    "    getElements(arr,n)"
   ]
  },
  {
   "cell_type": "markdown",
   "metadata": {},
   "source": [
    "## 3. Check if the array is sorted"
   ]
  },
  {
   "cell_type": "code",
   "execution_count": 2,
   "metadata": {},
   "outputs": [
    {
     "name": "stdout",
     "output_type": "stream",
     "text": [
      "True\n"
     ]
    }
   ],
   "source": [
    "def issorted(arr,n):\n",
    "    for i in range(n):\n",
    "        for j in range(i+1,n):\n",
    "            if arr[j] < arr[i]:\n",
    "                return False\n",
    "    return True\n",
    "\n",
    "if __name__ == \"__main__\":\n",
    "    arr = [1,3,6,7]\n",
    "    n = len(arr)\n",
    "    ans = issorted(arr,n)\n",
    "    if ans:\n",
    "        print(\"True\")\n",
    "    else:\n",
    "        print(\"False\")"
   ]
  },
  {
   "cell_type": "code",
   "execution_count": 3,
   "metadata": {},
   "outputs": [],
   "source": [
    "## testing for sorting array\n",
    "def is_sorted(arr):\n",
    "    for i in range(len(arr) -1):\n",
    "        if arr[i] > arr [i+1]:\n",
    "            return False\n",
    "    return True"
   ]
  },
  {
   "cell_type": "code",
   "execution_count": 5,
   "metadata": {},
   "outputs": [
    {
     "data": {
      "text/plain": [
       "False"
      ]
     },
     "execution_count": 5,
     "metadata": {},
     "output_type": "execute_result"
    }
   ],
   "source": [
    "is_sorted([1,6,3,4])"
   ]
  },
  {
   "cell_type": "markdown",
   "metadata": {},
   "source": [
    "## 4. Remove duplicates from sorted array"
   ]
  },
  {
   "cell_type": "markdown",
   "metadata": {},
   "source": [
    "## 5. Left rotate an array by one palce"
   ]
  },
  {
   "cell_type": "markdown",
   "metadata": {},
   "source": [
    "## 6. Move zeros to end"
   ]
  },
  {
   "cell_type": "markdown",
   "metadata": {},
   "source": [
    "## 7. Linear search"
   ]
  },
  {
   "cell_type": "markdown",
   "metadata": {},
   "source": [
    "## 8. Find the union"
   ]
  },
  {
   "cell_type": "markdown",
   "metadata": {},
   "source": [
    "## 9. Find missing number in an array"
   ]
  },
  {
   "cell_type": "markdown",
   "metadata": {},
   "source": [
    "## 10. Maximum consecutive ones"
   ]
  },
  {
   "cell_type": "markdown",
   "metadata": {},
   "source": [
    "## 11. Find the number that appears once"
   ]
  },
  {
   "cell_type": "markdown",
   "metadata": {},
   "source": [
    "## 12. Longest subarray with given sum k ( positives)"
   ]
  },
  {
   "cell_type": "markdown",
   "metadata": {},
   "source": [
    "## 13. Longest subarray with sumk (positive + negatives)"
   ]
  },
  {
   "cell_type": "markdown",
   "metadata": {},
   "source": []
  }
 ],
 "metadata": {
  "kernelspec": {
   "display_name": "base",
   "language": "python",
   "name": "python3"
  },
  "language_info": {
   "codemirror_mode": {
    "name": "ipython",
    "version": 3
   },
   "file_extension": ".py",
   "mimetype": "text/x-python",
   "name": "python",
   "nbconvert_exporter": "python",
   "pygments_lexer": "ipython3",
   "version": "3.7.6"
  },
  "orig_nbformat": 4
 },
 "nbformat": 4,
 "nbformat_minor": 2
}
